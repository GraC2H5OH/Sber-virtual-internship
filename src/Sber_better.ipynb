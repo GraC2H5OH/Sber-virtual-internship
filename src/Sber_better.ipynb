{
  "nbformat": 4,
  "nbformat_minor": 0,
  "metadata": {
    "colab": {
      "name": "Sber.ipynb",
      "provenance": [],
      "collapsed_sections": []
    },
    "kernelspec": {
      "name": "python3",
      "display_name": "Python 3"
    },
    "language_info": {
      "name": "python"
    }
  },
  "cells": [
    {
      "cell_type": "code",
      "execution_count": 1,
      "metadata": {
        "colab": {
          "base_uri": "https://localhost:8080/"
        },
        "id": "g3fO3XRUHgxP",
        "outputId": "a708d5c5-5f64-4528-8e17-a2b93ad0fe5e"
      },
      "outputs": [
        {
          "output_type": "stream",
          "name": "stdout",
          "text": [
            "Mounted at /content/gdrive\n"
          ]
        }
      ],
      "source": [
        "from google.colab import drive\n",
        "drive.mount('/content/gdrive')"
      ]
    },
    {
      "cell_type": "code",
      "source": [
        "!pip install ETNA"
      ],
      "metadata": {
        "id": "fpNWoq7TLf36",
        "colab": {
          "base_uri": "https://localhost:8080/",
          "height": 1000
        },
        "outputId": "cfaf2d9b-aeda-41c9-f681-e4683275a820"
      },
      "execution_count": 2,
      "outputs": [
        {
          "output_type": "stream",
          "name": "stdout",
          "text": [
            "Looking in indexes: https://pypi.org/simple, https://us-python.pkg.dev/colab-wheels/public/simple/\n",
            "Collecting ETNA\n",
            "  Downloading etna-1.11.0-py3-none-any.whl (210 kB)\n",
            "\u001b[K     |████████████████████████████████| 210 kB 15.5 MB/s \n",
            "\u001b[?25hCollecting numba<0.56.0,>=0.53.1\n",
            "  Downloading numba-0.55.2-cp37-cp37m-manylinux2014_x86_64.manylinux_2_17_x86_64.whl (3.3 MB)\n",
            "\u001b[K     |████████████████████████████████| 3.3 MB 67.2 MB/s \n",
            "\u001b[?25hRequirement already satisfied: scikit-learn<2,>=0.24 in /usr/local/lib/python3.7/dist-packages (from ETNA) (1.0.2)\n",
            "Collecting hydra_slayer\n",
            "  Downloading hydra_slayer-0.4.0-py3-none-any.whl (13 kB)\n",
            "Requirement already satisfied: seaborn<0.12.0,>=0.11.1 in /usr/local/lib/python3.7/dist-packages (from ETNA) (0.11.2)\n",
            "Collecting tbats<2.0.0,>=1.1.0\n",
            "  Downloading tbats-1.1.0-py3-none-any.whl (43 kB)\n",
            "\u001b[K     |████████████████████████████████| 43 kB 2.4 MB/s \n",
            "\u001b[?25hCollecting holidays<0.14,>=0.13\n",
            "  Downloading holidays-0.13-py3-none-any.whl (172 kB)\n",
            "\u001b[K     |████████████████████████████████| 172 kB 96.1 MB/s \n",
            "\u001b[?25hCollecting hydra-slayer<0.3.0,>=0.2.0\n",
            "  Downloading hydra_slayer-0.2.0-py3-none-any.whl (12 kB)\n",
            "Requirement already satisfied: joblib in /usr/local/lib/python3.7/dist-packages (from ETNA) (1.1.0)\n",
            "Collecting omegaconf<3.0.0,>=2.1.1\n",
            "  Downloading omegaconf-2.2.2-py3-none-any.whl (79 kB)\n",
            "\u001b[K     |████████████████████████████████| 79 kB 8.6 MB/s \n",
            "\u001b[?25hCollecting botocore\n",
            "  Downloading botocore-1.27.44-py3-none-any.whl (9.0 MB)\n",
            "\u001b[K     |████████████████████████████████| 9.0 MB 44.5 MB/s \n",
            "\u001b[?25hRequirement already satisfied: ipywidgets<8.0.0,>=7.6.5 in /usr/local/lib/python3.7/dist-packages (from ETNA) (7.7.1)\n",
            "Collecting loguru<0.6.0,>=0.5.3\n",
            "  Downloading loguru-0.5.3-py3-none-any.whl (57 kB)\n",
            "\u001b[K     |████████████████████████████████| 57 kB 5.3 MB/s \n",
            "\u001b[?25hRequirement already satisfied: plotly in /usr/local/lib/python3.7/dist-packages (from ETNA) (5.5.0)\n",
            "Requirement already satisfied: typer<0.5.0,>=0.4.0 in /usr/local/lib/python3.7/dist-packages (from ETNA) (0.4.2)\n",
            "Collecting Deprecated==1.2.13\n",
            "  Downloading Deprecated-1.2.13-py2.py3-none-any.whl (9.6 kB)\n",
            "Collecting statsmodels<0.14,>=0.12\n",
            "  Downloading statsmodels-0.13.2-cp37-cp37m-manylinux_2_17_x86_64.manylinux2014_x86_64.whl (9.8 MB)\n",
            "\u001b[K     |████████████████████████████████| 9.8 MB 48.5 MB/s \n",
            "\u001b[?25hRequirement already satisfied: dill<0.4.0,>=0.3.4 in /usr/local/lib/python3.7/dist-packages (from ETNA) (0.3.5.1)\n",
            "Collecting toml<0.11.0,>=0.10.2\n",
            "  Downloading toml-0.10.2-py2.py3-none-any.whl (16 kB)\n",
            "Collecting ruptures==1.1.5\n",
            "  Downloading ruptures-1.1.5-cp37-cp37m-manylinux_2_5_x86_64.manylinux1_x86_64.manylinux_2_12_x86_64.manylinux2010_x86_64.whl (918 kB)\n",
            "\u001b[K     |████████████████████████████████| 918 kB 61.5 MB/s \n",
            "\u001b[?25hRequirement already satisfied: numpy in /usr/local/lib/python3.7/dist-packages (from ETNA) (1.21.6)\n",
            "Collecting types-Deprecated==1.2.9\n",
            "  Downloading types_Deprecated-1.2.9-py3-none-any.whl (3.2 kB)\n",
            "Collecting catboost>=0.21\n",
            "  Downloading catboost-1.0.6-cp37-none-manylinux1_x86_64.whl (76.6 MB)\n",
            "\u001b[K     |████████████████████████████████| 76.6 MB 1.2 MB/s \n",
            "\u001b[?25hRequirement already satisfied: typing_extensions in /usr/local/lib/python3.7/dist-packages (from ETNA) (4.1.1)\n",
            "Collecting Bottleneck<2.0.0,>=1.3.4\n",
            "  Downloading Bottleneck-1.3.5-cp37-cp37m-manylinux_2_5_x86_64.manylinux1_x86_64.manylinux_2_17_x86_64.manylinux2014_x86_64.whl (355 kB)\n",
            "\u001b[K     |████████████████████████████████| 355 kB 72.3 MB/s \n",
            "\u001b[?25hCollecting boto3<2.0,>=1.5\n",
            "  Downloading boto3-1.24.44-py3-none-any.whl (132 kB)\n",
            "\u001b[K     |████████████████████████████████| 132 kB 78.4 MB/s \n",
            "\u001b[?25hRequirement already satisfied: pandas<2,>=1 in /usr/local/lib/python3.7/dist-packages (from ETNA) (1.3.5)\n",
            "Requirement already satisfied: matplotlib in /usr/local/lib/python3.7/dist-packages (from ETNA) (3.2.2)\n",
            "Requirement already satisfied: scipy<1.8.0 in /usr/local/lib/python3.7/dist-packages (from ETNA) (1.7.3)\n",
            "Collecting pmdarima>=1.8.0\n",
            "  Downloading pmdarima-1.8.5-cp37-cp37m-manylinux_2_17_x86_64.manylinux2014_x86_64.manylinux_2_24_x86_64.whl (1.4 MB)\n",
            "\u001b[K     |████████████████████████████████| 1.4 MB 57.7 MB/s \n",
            "\u001b[?25hRequirement already satisfied: wrapt<2,>=1.10 in /usr/local/lib/python3.7/dist-packages (from Deprecated==1.2.13->ETNA) (1.14.1)\n",
            "Collecting s3transfer<0.7.0,>=0.6.0\n",
            "  Downloading s3transfer-0.6.0-py3-none-any.whl (79 kB)\n",
            "\u001b[K     |████████████████████████████████| 79 kB 8.4 MB/s \n",
            "\u001b[?25hCollecting jmespath<2.0.0,>=0.7.1\n",
            "  Downloading jmespath-1.0.1-py3-none-any.whl (20 kB)\n",
            "Requirement already satisfied: python-dateutil<3.0.0,>=2.1 in /usr/local/lib/python3.7/dist-packages (from botocore->ETNA) (2.8.2)\n",
            "Collecting urllib3<1.27,>=1.25.4\n",
            "  Downloading urllib3-1.26.11-py2.py3-none-any.whl (139 kB)\n",
            "\u001b[K     |████████████████████████████████| 139 kB 67.5 MB/s \n",
            "\u001b[?25hRequirement already satisfied: six in /usr/local/lib/python3.7/dist-packages (from catboost>=0.21->ETNA) (1.15.0)\n",
            "Requirement already satisfied: graphviz in /usr/local/lib/python3.7/dist-packages (from catboost>=0.21->ETNA) (0.10.1)\n",
            "Requirement already satisfied: hijri-converter in /usr/local/lib/python3.7/dist-packages (from holidays<0.14,>=0.13->ETNA) (2.2.4)\n",
            "Requirement already satisfied: convertdate>=2.3.0 in /usr/local/lib/python3.7/dist-packages (from holidays<0.14,>=0.13->ETNA) (2.4.0)\n",
            "Requirement already satisfied: korean-lunar-calendar in /usr/local/lib/python3.7/dist-packages (from holidays<0.14,>=0.13->ETNA) (0.2.1)\n",
            "Requirement already satisfied: pymeeus<=1,>=0.3.13 in /usr/local/lib/python3.7/dist-packages (from convertdate>=2.3.0->holidays<0.14,>=0.13->ETNA) (0.5.11)\n",
            "Requirement already satisfied: ipykernel>=4.5.1 in /usr/local/lib/python3.7/dist-packages (from ipywidgets<8.0.0,>=7.6.5->ETNA) (4.10.1)\n",
            "Requirement already satisfied: jupyterlab-widgets>=1.0.0 in /usr/local/lib/python3.7/dist-packages (from ipywidgets<8.0.0,>=7.6.5->ETNA) (1.1.1)\n",
            "Requirement already satisfied: widgetsnbextension~=3.6.0 in /usr/local/lib/python3.7/dist-packages (from ipywidgets<8.0.0,>=7.6.5->ETNA) (3.6.1)\n",
            "Requirement already satisfied: traitlets>=4.3.1 in /usr/local/lib/python3.7/dist-packages (from ipywidgets<8.0.0,>=7.6.5->ETNA) (5.1.1)\n",
            "Requirement already satisfied: ipython>=4.0.0 in /usr/local/lib/python3.7/dist-packages (from ipywidgets<8.0.0,>=7.6.5->ETNA) (5.5.0)\n",
            "Requirement already satisfied: ipython-genutils~=0.2.0 in /usr/local/lib/python3.7/dist-packages (from ipywidgets<8.0.0,>=7.6.5->ETNA) (0.2.0)\n",
            "Requirement already satisfied: tornado>=4.0 in /usr/local/lib/python3.7/dist-packages (from ipykernel>=4.5.1->ipywidgets<8.0.0,>=7.6.5->ETNA) (5.1.1)\n",
            "Requirement already satisfied: jupyter-client in /usr/local/lib/python3.7/dist-packages (from ipykernel>=4.5.1->ipywidgets<8.0.0,>=7.6.5->ETNA) (5.3.5)\n",
            "Requirement already satisfied: simplegeneric>0.8 in /usr/local/lib/python3.7/dist-packages (from ipython>=4.0.0->ipywidgets<8.0.0,>=7.6.5->ETNA) (0.8.1)\n",
            "Requirement already satisfied: prompt-toolkit<2.0.0,>=1.0.4 in /usr/local/lib/python3.7/dist-packages (from ipython>=4.0.0->ipywidgets<8.0.0,>=7.6.5->ETNA) (1.0.18)\n",
            "Requirement already satisfied: pexpect in /usr/local/lib/python3.7/dist-packages (from ipython>=4.0.0->ipywidgets<8.0.0,>=7.6.5->ETNA) (4.8.0)\n",
            "Requirement already satisfied: pickleshare in /usr/local/lib/python3.7/dist-packages (from ipython>=4.0.0->ipywidgets<8.0.0,>=7.6.5->ETNA) (0.7.5)\n",
            "Requirement already satisfied: setuptools>=18.5 in /usr/local/lib/python3.7/dist-packages (from ipython>=4.0.0->ipywidgets<8.0.0,>=7.6.5->ETNA) (57.4.0)\n",
            "Requirement already satisfied: decorator in /usr/local/lib/python3.7/dist-packages (from ipython>=4.0.0->ipywidgets<8.0.0,>=7.6.5->ETNA) (4.4.2)\n",
            "Requirement already satisfied: pygments in /usr/local/lib/python3.7/dist-packages (from ipython>=4.0.0->ipywidgets<8.0.0,>=7.6.5->ETNA) (2.6.1)\n",
            "Collecting llvmlite<0.39,>=0.38.0rc1\n",
            "  Downloading llvmlite-0.38.1-cp37-cp37m-manylinux_2_17_x86_64.manylinux2014_x86_64.whl (34.5 MB)\n",
            "\u001b[K     |████████████████████████████████| 34.5 MB 1.2 MB/s \n",
            "\u001b[?25hCollecting PyYAML>=5.1.0\n",
            "  Downloading PyYAML-6.0-cp37-cp37m-manylinux_2_5_x86_64.manylinux1_x86_64.manylinux_2_12_x86_64.manylinux2010_x86_64.whl (596 kB)\n",
            "\u001b[K     |████████████████████████████████| 596 kB 73.3 MB/s \n",
            "\u001b[?25hCollecting antlr4-python3-runtime==4.9.*\n",
            "  Downloading antlr4-python3-runtime-4.9.3.tar.gz (117 kB)\n",
            "\u001b[K     |████████████████████████████████| 117 kB 75.6 MB/s \n",
            "\u001b[?25hRequirement already satisfied: pytz>=2017.3 in /usr/local/lib/python3.7/dist-packages (from pandas<2,>=1->ETNA) (2022.1)\n",
            "Requirement already satisfied: Cython!=0.29.18,>=0.29 in /usr/local/lib/python3.7/dist-packages (from pmdarima>=1.8.0->ETNA) (0.29.31)\n",
            "Requirement already satisfied: wcwidth in /usr/local/lib/python3.7/dist-packages (from prompt-toolkit<2.0.0,>=1.0.4->ipython>=4.0.0->ipywidgets<8.0.0,>=7.6.5->ETNA) (0.2.5)\n",
            "Requirement already satisfied: threadpoolctl>=2.0.0 in /usr/local/lib/python3.7/dist-packages (from scikit-learn<2,>=0.24->ETNA) (3.1.0)\n",
            "Requirement already satisfied: kiwisolver>=1.0.1 in /usr/local/lib/python3.7/dist-packages (from matplotlib->ETNA) (1.4.4)\n",
            "Requirement already satisfied: cycler>=0.10 in /usr/local/lib/python3.7/dist-packages (from matplotlib->ETNA) (0.11.0)\n",
            "Requirement already satisfied: pyparsing!=2.0.4,!=2.1.2,!=2.1.6,>=2.0.1 in /usr/local/lib/python3.7/dist-packages (from matplotlib->ETNA) (3.0.9)\n",
            "Requirement already satisfied: packaging>=21.3 in /usr/local/lib/python3.7/dist-packages (from statsmodels<0.14,>=0.12->ETNA) (21.3)\n",
            "Requirement already satisfied: patsy>=0.5.2 in /usr/local/lib/python3.7/dist-packages (from statsmodels<0.14,>=0.12->ETNA) (0.5.2)\n",
            "Requirement already satisfied: click<9.0.0,>=7.1.1 in /usr/local/lib/python3.7/dist-packages (from typer<0.5.0,>=0.4.0->ETNA) (7.1.2)\n",
            "Requirement already satisfied: notebook>=4.4.1 in /usr/local/lib/python3.7/dist-packages (from widgetsnbextension~=3.6.0->ipywidgets<8.0.0,>=7.6.5->ETNA) (5.3.1)\n",
            "Requirement already satisfied: terminado>=0.8.1 in /usr/local/lib/python3.7/dist-packages (from notebook>=4.4.1->widgetsnbextension~=3.6.0->ipywidgets<8.0.0,>=7.6.5->ETNA) (0.13.3)\n",
            "Requirement already satisfied: jupyter-core>=4.4.0 in /usr/local/lib/python3.7/dist-packages (from notebook>=4.4.1->widgetsnbextension~=3.6.0->ipywidgets<8.0.0,>=7.6.5->ETNA) (4.11.1)\n",
            "Requirement already satisfied: nbconvert in /usr/local/lib/python3.7/dist-packages (from notebook>=4.4.1->widgetsnbextension~=3.6.0->ipywidgets<8.0.0,>=7.6.5->ETNA) (5.6.1)\n",
            "Requirement already satisfied: nbformat in /usr/local/lib/python3.7/dist-packages (from notebook>=4.4.1->widgetsnbextension~=3.6.0->ipywidgets<8.0.0,>=7.6.5->ETNA) (5.4.0)\n",
            "Requirement already satisfied: Send2Trash in /usr/local/lib/python3.7/dist-packages (from notebook>=4.4.1->widgetsnbextension~=3.6.0->ipywidgets<8.0.0,>=7.6.5->ETNA) (1.8.0)\n",
            "Requirement already satisfied: jinja2 in /usr/local/lib/python3.7/dist-packages (from notebook>=4.4.1->widgetsnbextension~=3.6.0->ipywidgets<8.0.0,>=7.6.5->ETNA) (2.11.3)\n",
            "Requirement already satisfied: pyzmq>=13 in /usr/local/lib/python3.7/dist-packages (from jupyter-client->ipykernel>=4.5.1->ipywidgets<8.0.0,>=7.6.5->ETNA) (23.2.0)\n",
            "Requirement already satisfied: ptyprocess in /usr/local/lib/python3.7/dist-packages (from terminado>=0.8.1->notebook>=4.4.1->widgetsnbextension~=3.6.0->ipywidgets<8.0.0,>=7.6.5->ETNA) (0.7.0)\n",
            "Requirement already satisfied: MarkupSafe>=0.23 in /usr/local/lib/python3.7/dist-packages (from jinja2->notebook>=4.4.1->widgetsnbextension~=3.6.0->ipywidgets<8.0.0,>=7.6.5->ETNA) (2.0.1)\n",
            "Requirement already satisfied: testpath in /usr/local/lib/python3.7/dist-packages (from nbconvert->notebook>=4.4.1->widgetsnbextension~=3.6.0->ipywidgets<8.0.0,>=7.6.5->ETNA) (0.6.0)\n",
            "Requirement already satisfied: mistune<2,>=0.8.1 in /usr/local/lib/python3.7/dist-packages (from nbconvert->notebook>=4.4.1->widgetsnbextension~=3.6.0->ipywidgets<8.0.0,>=7.6.5->ETNA) (0.8.4)\n",
            "Requirement already satisfied: entrypoints>=0.2.2 in /usr/local/lib/python3.7/dist-packages (from nbconvert->notebook>=4.4.1->widgetsnbextension~=3.6.0->ipywidgets<8.0.0,>=7.6.5->ETNA) (0.4)\n",
            "Requirement already satisfied: defusedxml in /usr/local/lib/python3.7/dist-packages (from nbconvert->notebook>=4.4.1->widgetsnbextension~=3.6.0->ipywidgets<8.0.0,>=7.6.5->ETNA) (0.7.1)\n",
            "Requirement already satisfied: bleach in /usr/local/lib/python3.7/dist-packages (from nbconvert->notebook>=4.4.1->widgetsnbextension~=3.6.0->ipywidgets<8.0.0,>=7.6.5->ETNA) (5.0.1)\n",
            "Requirement already satisfied: pandocfilters>=1.4.1 in /usr/local/lib/python3.7/dist-packages (from nbconvert->notebook>=4.4.1->widgetsnbextension~=3.6.0->ipywidgets<8.0.0,>=7.6.5->ETNA) (1.5.0)\n",
            "Requirement already satisfied: fastjsonschema in /usr/local/lib/python3.7/dist-packages (from nbformat->notebook>=4.4.1->widgetsnbextension~=3.6.0->ipywidgets<8.0.0,>=7.6.5->ETNA) (2.16.1)\n",
            "Requirement already satisfied: jsonschema>=2.6 in /usr/local/lib/python3.7/dist-packages (from nbformat->notebook>=4.4.1->widgetsnbextension~=3.6.0->ipywidgets<8.0.0,>=7.6.5->ETNA) (4.3.3)\n",
            "Requirement already satisfied: attrs>=17.4.0 in /usr/local/lib/python3.7/dist-packages (from jsonschema>=2.6->nbformat->notebook>=4.4.1->widgetsnbextension~=3.6.0->ipywidgets<8.0.0,>=7.6.5->ETNA) (22.1.0)\n",
            "Requirement already satisfied: pyrsistent!=0.17.0,!=0.17.1,!=0.17.2,>=0.14.0 in /usr/local/lib/python3.7/dist-packages (from jsonschema>=2.6->nbformat->notebook>=4.4.1->widgetsnbextension~=3.6.0->ipywidgets<8.0.0,>=7.6.5->ETNA) (0.18.1)\n",
            "Requirement already satisfied: importlib-resources>=1.4.0 in /usr/local/lib/python3.7/dist-packages (from jsonschema>=2.6->nbformat->notebook>=4.4.1->widgetsnbextension~=3.6.0->ipywidgets<8.0.0,>=7.6.5->ETNA) (5.9.0)\n",
            "Requirement already satisfied: importlib-metadata in /usr/local/lib/python3.7/dist-packages (from jsonschema>=2.6->nbformat->notebook>=4.4.1->widgetsnbextension~=3.6.0->ipywidgets<8.0.0,>=7.6.5->ETNA) (4.12.0)\n",
            "Requirement already satisfied: zipp>=3.1.0 in /usr/local/lib/python3.7/dist-packages (from importlib-resources>=1.4.0->jsonschema>=2.6->nbformat->notebook>=4.4.1->widgetsnbextension~=3.6.0->ipywidgets<8.0.0,>=7.6.5->ETNA) (3.8.1)\n",
            "Requirement already satisfied: webencodings in /usr/local/lib/python3.7/dist-packages (from bleach->nbconvert->notebook>=4.4.1->widgetsnbextension~=3.6.0->ipywidgets<8.0.0,>=7.6.5->ETNA) (0.5.1)\n",
            "Requirement already satisfied: tenacity>=6.2.0 in /usr/local/lib/python3.7/dist-packages (from plotly->ETNA) (8.0.1)\n",
            "Building wheels for collected packages: antlr4-python3-runtime\n",
            "  Building wheel for antlr4-python3-runtime (setup.py) ... \u001b[?25l\u001b[?25hdone\n",
            "  Created wheel for antlr4-python3-runtime: filename=antlr4_python3_runtime-4.9.3-py3-none-any.whl size=144575 sha256=5dedadf82ce334486941b32b2ca8e02d3f7ee2c55d1dab2471a8c04afdf2de15\n",
            "  Stored in directory: /root/.cache/pip/wheels/8b/8d/53/2af8772d9aec614e3fc65e53d4a993ad73c61daa8bbd85a873\n",
            "Successfully built antlr4-python3-runtime\n",
            "Installing collected packages: urllib3, jmespath, statsmodels, botocore, s3transfer, PyYAML, pmdarima, llvmlite, antlr4-python3-runtime, types-Deprecated, toml, tbats, ruptures, omegaconf, numba, loguru, hydra-slayer, holidays, Deprecated, catboost, Bottleneck, boto3, ETNA\n",
            "  Attempting uninstall: urllib3\n",
            "    Found existing installation: urllib3 1.24.3\n",
            "    Uninstalling urllib3-1.24.3:\n",
            "      Successfully uninstalled urllib3-1.24.3\n",
            "  Attempting uninstall: statsmodels\n",
            "    Found existing installation: statsmodels 0.10.2\n",
            "    Uninstalling statsmodels-0.10.2:\n",
            "      Successfully uninstalled statsmodels-0.10.2\n",
            "  Attempting uninstall: PyYAML\n",
            "    Found existing installation: PyYAML 3.13\n",
            "    Uninstalling PyYAML-3.13:\n",
            "      Successfully uninstalled PyYAML-3.13\n",
            "  Attempting uninstall: llvmlite\n",
            "    Found existing installation: llvmlite 0.39.0\n",
            "    Uninstalling llvmlite-0.39.0:\n",
            "      Successfully uninstalled llvmlite-0.39.0\n",
            "  Attempting uninstall: numba\n",
            "    Found existing installation: numba 0.56.0\n",
            "    Uninstalling numba-0.56.0:\n",
            "      Successfully uninstalled numba-0.56.0\n",
            "  Attempting uninstall: holidays\n",
            "    Found existing installation: holidays 0.14.2\n",
            "    Uninstalling holidays-0.14.2:\n",
            "      Successfully uninstalled holidays-0.14.2\n",
            "\u001b[31mERROR: pip's dependency resolver does not currently take into account all the packages that are installed. This behaviour is the source of the following dependency conflicts.\n",
            "requests 2.23.0 requires urllib3!=1.25.0,!=1.25.1,<1.26,>=1.21.1, but you have urllib3 1.26.11 which is incompatible.\u001b[0m\n",
            "Successfully installed Bottleneck-1.3.5 Deprecated-1.2.13 ETNA-1.11.0 PyYAML-6.0 antlr4-python3-runtime-4.9.3 boto3-1.24.44 botocore-1.27.44 catboost-1.0.6 holidays-0.13 hydra-slayer-0.2.0 jmespath-1.0.1 llvmlite-0.38.1 loguru-0.5.3 numba-0.55.2 omegaconf-2.2.2 pmdarima-1.8.5 ruptures-1.1.5 s3transfer-0.6.0 statsmodels-0.13.2 tbats-1.1.0 toml-0.10.2 types-Deprecated-1.2.9 urllib3-1.26.11\n"
          ]
        },
        {
          "output_type": "display_data",
          "data": {
            "application/vnd.colab-display-data+json": {
              "pip_warning": {
                "packages": [
                  "pydevd_plugins"
                ]
              }
            }
          },
          "metadata": {}
        }
      ]
    },
    {
      "cell_type": "markdown",
      "source": [
        "# Импортируем библиотеки"
      ],
      "metadata": {
        "id": "V5vjYlbUIAyP"
      }
    },
    {
      "cell_type": "code",
      "source": [
        "import pandas as pd\n",
        "import numpy as np\n",
        "import matplotlib.pyplot as plt\n",
        "from sklearn.model_selection import train_test_split\n",
        "\n",
        "from etna.datasets import TSDataset\n",
        "from etna.transforms import HolidayTransform, LagTransform, TimeSeriesImputerTransform, DateFlagsTransform\n",
        "from etna.transforms import MeanTransform, SegmentEncoderTransform, FourierTransform, StdTransform\n",
        "from etna.pipeline import Pipeline\n",
        "from etna.models.catboost import CatBoostModelPerSegment \n",
        "from etna.metrics import SMAPE\n",
        "from etna.analysis import plot_backtest\n",
        "from etna.analysis import plot_forecast"
      ],
      "metadata": {
        "id": "GF-o27D2H2Aj"
      },
      "execution_count": 305,
      "outputs": []
    },
    {
      "cell_type": "markdown",
      "source": [
        "--------------------"
      ],
      "metadata": {
        "id": "9PQw1mAoE8g3"
      }
    },
    {
      "cell_type": "markdown",
      "source": [
        "# Загрузка и предобработка данных"
      ],
      "metadata": {
        "id": "J18XjeUIIPVu"
      }
    },
    {
      "cell_type": "code",
      "source": [
        "data = pd.read_csv('/content/gdrive/MyDrive/data.csv', sep=';', parse_dates=True)"
      ],
      "metadata": {
        "id": "Q6gOIfQdg1mh"
      },
      "execution_count": 306,
      "outputs": []
    },
    {
      "cell_type": "markdown",
      "source": [
        "Посмотрим как распределены данные"
      ],
      "metadata": {
        "id": "CtqWlzXYIf1b"
      }
    },
    {
      "cell_type": "code",
      "source": [
        "plt.plot(data['VALUE'])"
      ],
      "metadata": {
        "colab": {
          "base_uri": "https://localhost:8080/",
          "height": 293
        },
        "id": "RH4KWcA-Ib4n",
        "outputId": "1befa72a-7cea-4295-a0d1-0c18b375f1f4"
      },
      "execution_count": 307,
      "outputs": [
        {
          "output_type": "execute_result",
          "data": {
            "text/plain": [
              "[<matplotlib.lines.Line2D at 0x7ff69521e350>]"
            ]
          },
          "metadata": {},
          "execution_count": 307
        },
        {
          "output_type": "display_data",
          "data": {
            "text/plain": [
              "<Figure size 432x288 with 1 Axes>"
            ],
            "image/png": "[encoded data removed]"
          },
          "metadata": {
            "needs_background": "light"
          }
        }
      ]
    },
    {
      "cell_type": "markdown",
      "source": [
        "Готовим датасет для преобразования к приемлемому формату для работы с ETNA"
      ],
      "metadata": {
        "id": "JkA-hWldIziB"
      }
    },
    {
      "cell_type": "code",
      "source": [
        "data['RD'] = data['REPORTDATE']\n",
        "data['REPORTDATE'] = pd.to_datetime(data['REPORTDATE'])\n",
        "data = data.set_index('REPORTDATE')\n",
        "\n",
        "data = data.asfreq('D')\n",
        "print(data.isna().sum()) # Смотрим, есть ли пропуски?\n",
        "# Создадим датасет с заполненными пропусками\n",
        "data_pad = data.pad()"
      ],
      "metadata": {
        "colab": {
          "base_uri": "https://localhost:8080/"
        },
        "id": "WkZeJvwSIpvv",
        "outputId": "7aeed433-b0cb-48d5-cfca-8afaef906a06"
      },
      "execution_count": 308,
      "outputs": [
        {
          "output_type": "stream",
          "name": "stdout",
          "text": [
            "VALUE    60\n",
            "RD       60\n",
            "dtype: int64\n"
          ]
        }
      ]
    },
    {
      "cell_type": "code",
      "source": [
        "data_pad['segment'] = data_pad['VALUE'] # 'segment' - отдельный временной ряд для etna (временной ряд у нас 1)\n",
        "data_pad['timestamp'] = data_pad['RD'] # 'timestamp' - временная метка для etna\n",
        "data_pad = data_pad.drop(columns=['VALUE', 'RD'])\n"
      ],
      "metadata": {
        "id": "9qmB_BjpKuzM"
      },
      "execution_count": 309,
      "outputs": []
    },
    {
      "cell_type": "code",
      "source": [
        "data_pad['target'] = data_pad['segment']\n",
        "data_pad['segment'] = 'balance' # Назовем наш временной ряд\n",
        "data_pad = data_pad.reset_index() # Обозначим индексы"
      ],
      "metadata": {
        "id": "KVY9X2MnLFwW"
      },
      "execution_count": 310,
      "outputs": []
    },
    {
      "cell_type": "code",
      "source": [
        "data_pad = data_pad.drop(columns='REPORTDATE')"
      ],
      "metadata": {
        "id": "5h7zcGcrOMAU"
      },
      "execution_count": 311,
      "outputs": []
    },
    {
      "cell_type": "code",
      "source": [
        "data_pad = data_pad.drop_duplicates()\n",
        "data_pad # Посмотрим на получившийся датасет"
      ],
      "metadata": {
        "colab": {
          "base_uri": "https://localhost:8080/",
          "height": 424
        },
        "id": "nSgRP8OfjGWJ",
        "outputId": "73afb127-d4eb-4412-f5b6-73543c96047c"
      },
      "execution_count": 312,
      "outputs": [
        {
          "output_type": "execute_result",
          "data": {
            "text/plain": [
              "      segment   timestamp        target\n",
              "0     balance  30.12.2013  3.457626e+09\n",
              "1     balance  31.12.2013  3.417092e+09\n",
              "2     balance  01.01.2014  3.417092e+09\n",
              "3     balance  01.02.2014  4.333582e+09\n",
              "4     balance  01.03.2014  5.010720e+09\n",
              "...       ...         ...           ...\n",
              "2166  balance  12.05.2019  7.355557e+10\n",
              "2167  balance  12.06.2019  7.406256e+10\n",
              "2168  balance  12.07.2019  7.822860e+10\n",
              "2169  balance  12.08.2019  7.691720e+10\n",
              "2170  balance  12.09.2019  7.410598e+10\n",
              "\n",
              "[2111 rows x 3 columns]"
            ],
            "text/html": [
              "\n",
              "  <div id=\"df-a792bfdf-108b-4e97-a15d-52a6d019894a\">\n",
              "    <div class=\"colab-df-container\">\n",
              "      <div>\n",
              "<style scoped>\n",
              "    .dataframe tbody tr th:only-of-type {\n",
              "        vertical-align: middle;\n",
              "    }\n",
              "\n",
              "    .dataframe tbody tr th {\n",
              "        vertical-align: top;\n",
              "    }\n",
              "\n",
              "    .dataframe thead th {\n",
              "        text-align: right;\n",
              "    }\n",
              "</style>\n",
              "<table border=\"1\" class=\"dataframe\">\n",
              "  <thead>\n",
              "    <tr style=\"text-align: right;\">\n",
              "      <th></th>\n",
              "      <th>segment</th>\n",
              "      <th>timestamp</th>\n",
              "      <th>target</th>\n",
              "    </tr>\n",
              "  </thead>\n",
              "  <tbody>\n",
              "    <tr>\n",
              "      <th>0</th>\n",
              "      <td>balance</td>\n",
              "      <td>30.12.2013</td>\n",
              "      <td>3.457626e+09</td>\n",
              "    </tr>\n",
              "    <tr>\n",
              "      <th>1</th>\n",
              "      <td>balance</td>\n",
              "      <td>31.12.2013</td>\n",
              "      <td>3.417092e+09</td>\n",
              "    </tr>\n",
              "    <tr>\n",
              "      <th>2</th>\n",
              "      <td>balance</td>\n",
              "      <td>01.01.2014</td>\n",
              "      <td>3.417092e+09</td>\n",
              "    </tr>\n",
              "    <tr>\n",
              "      <th>3</th>\n",
              "      <td>balance</td>\n",
              "      <td>01.02.2014</td>\n",
              "      <td>4.333582e+09</td>\n",
              "    </tr>\n",
              "    <tr>\n",
              "      <th>4</th>\n",
              "      <td>balance</td>\n",
              "      <td>01.03.2014</td>\n",
              "      <td>5.010720e+09</td>\n",
              "    </tr>\n",
              "    <tr>\n",
              "      <th>...</th>\n",
              "      <td>...</td>\n",
              "      <td>...</td>\n",
              "      <td>...</td>\n",
              "    </tr>\n",
              "    <tr>\n",
              "      <th>2166</th>\n",
              "      <td>balance</td>\n",
              "      <td>12.05.2019</td>\n",
              "      <td>7.355557e+10</td>\n",
              "    </tr>\n",
              "    <tr>\n",
              "      <th>2167</th>\n",
              "      <td>balance</td>\n",
              "      <td>12.06.2019</td>\n",
              "      <td>7.406256e+10</td>\n",
              "    </tr>\n",
              "    <tr>\n",
              "      <th>2168</th>\n",
              "      <td>balance</td>\n",
              "      <td>12.07.2019</td>\n",
              "      <td>7.822860e+10</td>\n",
              "    </tr>\n",
              "    <tr>\n",
              "      <th>2169</th>\n",
              "      <td>balance</td>\n",
              "      <td>12.08.2019</td>\n",
              "      <td>7.691720e+10</td>\n",
              "    </tr>\n",
              "    <tr>\n",
              "      <th>2170</th>\n",
              "      <td>balance</td>\n",
              "      <td>12.09.2019</td>\n",
              "      <td>7.410598e+10</td>\n",
              "    </tr>\n",
              "  </tbody>\n",
              "</table>\n",
              "<p>2111 rows × 3 columns</p>\n",
              "</div>\n",
              "      <button class=\"colab-df-convert\" onclick=\"convertToInteractive('df-a792bfdf-108b-4e97-a15d-52a6d019894a')\"\n",
              "              title=\"Convert this dataframe to an interactive table.\"\n",
              "              style=\"display:none;\">\n",
              "        \n",
              "  <svg xmlns=\"http://www.w3.org/2000/svg\" height=\"24px\"viewBox=\"0 0 24 24\"\n",
              "       width=\"24px\">\n",
              "    <path d=\"M0 0h24v24H0V0z\" fill=\"none\"/>\n",
              "    <path d=\"M18.56 5.44l.94 2.06.94-2.06 2.06-.94-2.06-.94-.94-2.06-.94 2.06-2.06.94zm-11 1L8.5 8.5l.94-2.06 2.06-.94-2.06-.94L8.5 2.5l-.94 2.06-2.06.94zm10 10l.94 2.06.94-2.06 2.06-.94-2.06-.94-.94-2.06-.94 2.06-2.06.94z\"/><path d=\"M17.41 7.96l-1.37-1.37c-.4-.4-.92-.59-1.43-.59-.52 0-1.04.2-1.43.59L10.3 9.45l-7.72 7.72c-.78.78-.78 2.05 0 2.83L4 21.41c.39.39.9.59 1.41.59.51 0 1.02-.2 1.41-.59l7.78-7.78 2.81-2.81c.8-.78.8-2.07 0-2.86zM5.41 20L4 18.59l7.72-7.72 1.47 1.35L5.41 20z\"/>\n",
              "  </svg>\n",
              "      </button>\n",
              "      \n",
              "  <style>\n",
              "    .colab-df-container {\n",
              "      display:flex;\n",
              "      flex-wrap:wrap;\n",
              "      gap: 12px;\n",
              "    }\n",
              "\n",
              "    .colab-df-convert {\n",
              "      background-color: #E8F0FE;\n",
              "      border: none;\n",
              "      border-radius: 50%;\n",
              "      cursor: pointer;\n",
              "      display: none;\n",
              "      fill: #1967D2;\n",
              "      height: 32px;\n",
              "      padding: 0 0 0 0;\n",
              "      width: 32px;\n",
              "    }\n",
              "\n",
              "    .colab-df-convert:hover {\n",
              "      background-color: #E2EBFA;\n",
              "      box-shadow: 0px 1px 2px rgba(60, 64, 67, 0.3), 0px 1px 3px 1px rgba(60, 64, 67, 0.15);\n",
              "      fill: #174EA6;\n",
              "    }\n",
              "\n",
              "    [theme=dark] .colab-df-convert {\n",
              "      background-color: #3B4455;\n",
              "      fill: #D2E3FC;\n",
              "    }\n",
              "\n",
              "    [theme=dark] .colab-df-convert:hover {\n",
              "      background-color: #434B5C;\n",
              "      box-shadow: 0px 1px 3px 1px rgba(0, 0, 0, 0.15);\n",
              "      filter: drop-shadow(0px 1px 2px rgba(0, 0, 0, 0.3));\n",
              "      fill: #FFFFFF;\n",
              "    }\n",
              "  </style>\n",
              "\n",
              "      <script>\n",
              "        const buttonEl =\n",
              "          document.querySelector('#df-a792bfdf-108b-4e97-a15d-52a6d019894a button.colab-df-convert');\n",
              "        buttonEl.style.display =\n",
              "          google.colab.kernel.accessAllowed ? 'block' : 'none';\n",
              "\n",
              "        async function convertToInteractive(key) {\n",
              "          const element = document.querySelector('#df-a792bfdf-108b-4e97-a15d-52a6d019894a');\n",
              "          const dataTable =\n",
              "            await google.colab.kernel.invokeFunction('convertToInteractive',\n",
              "                                                     [key], {});\n",
              "          if (!dataTable) return;\n",
              "\n",
              "          const docLinkHtml = 'Like what you see? Visit the ' +\n",
              "            '<a target=\"_blank\" href=https://colab.research.google.com/notebooks/data_table.ipynb>data table notebook</a>'\n",
              "            + ' to learn more about interactive tables.';\n",
              "          element.innerHTML = '';\n",
              "          dataTable['output_type'] = 'display_data';\n",
              "          await google.colab.output.renderOutput(dataTable, element);\n",
              "          const docLink = document.createElement('div');\n",
              "          docLink.innerHTML = docLinkHtml;\n",
              "          element.appendChild(docLink);\n",
              "        }\n",
              "      </script>\n",
              "    </div>\n",
              "  </div>\n",
              "  "
            ]
          },
          "metadata": {},
          "execution_count": 312
        }
      ]
    },
    {
      "cell_type": "code",
      "source": [
        "x_train, x_test = train_test_split(data_pad, test_size=0.1725, shuffle=False) # Разделим наш датасет на train и test части"
      ],
      "metadata": {
        "id": "MA19WvTawoDz"
      },
      "execution_count": 314,
      "outputs": []
    },
    {
      "cell_type": "code",
      "source": [
        "x_test # Как мы видим, индексы принимают не те значения"
      ],
      "metadata": {
        "colab": {
          "base_uri": "https://localhost:8080/",
          "height": 424
        },
        "id": "CHY23a78MgGy",
        "outputId": "28ed77a3-2780-4f41-c467-e803412c3b0f"
      },
      "execution_count": 315,
      "outputs": [
        {
          "output_type": "execute_result",
          "data": {
            "text/plain": [
              "      segment   timestamp        target\n",
              "1746  balance  10.11.2018  6.579046e+10\n",
              "1747  balance  10.12.2018  6.302985e+10\n",
              "1748  balance  13.10.2018  6.217398e+10\n",
              "1749  balance  14.10.2018  6.217398e+10\n",
              "1750  balance  15.10.2018  5.704780e+10\n",
              "...       ...         ...           ...\n",
              "2166  balance  12.05.2019  7.355557e+10\n",
              "2167  balance  12.06.2019  7.406256e+10\n",
              "2168  balance  12.07.2019  7.822860e+10\n",
              "2169  balance  12.08.2019  7.691720e+10\n",
              "2170  balance  12.09.2019  7.410598e+10\n",
              "\n",
              "[365 rows x 3 columns]"
            ],
            "text/html": [
              "\n",
              "  <div id=\"df-1a71912a-aa1b-4042-9996-2b50919f2a22\">\n",
              "    <div class=\"colab-df-container\">\n",
              "      <div>\n",
              "<style scoped>\n",
              "    .dataframe tbody tr th:only-of-type {\n",
              "        vertical-align: middle;\n",
              "    }\n",
              "\n",
              "    .dataframe tbody tr th {\n",
              "        vertical-align: top;\n",
              "    }\n",
              "\n",
              "    .dataframe thead th {\n",
              "        text-align: right;\n",
              "    }\n",
              "</style>\n",
              "<table border=\"1\" class=\"dataframe\">\n",
              "  <thead>\n",
              "    <tr style=\"text-align: right;\">\n",
              "      <th></th>\n",
              "      <th>segment</th>\n",
              "      <th>timestamp</th>\n",
              "      <th>target</th>\n",
              "    </tr>\n",
              "  </thead>\n",
              "  <tbody>\n",
              "    <tr>\n",
              "      <th>1746</th>\n",
              "      <td>balance</td>\n",
              "      <td>10.11.2018</td>\n",
              "      <td>6.579046e+10</td>\n",
              "    </tr>\n",
              "    <tr>\n",
              "      <th>1747</th>\n",
              "      <td>balance</td>\n",
              "      <td>10.12.2018</td>\n",
              "      <td>6.302985e+10</td>\n",
              "    </tr>\n",
              "    <tr>\n",
              "      <th>1748</th>\n",
              "      <td>balance</td>\n",
              "      <td>13.10.2018</td>\n",
              "      <td>6.217398e+10</td>\n",
              "    </tr>\n",
              "    <tr>\n",
              "      <th>1749</th>\n",
              "      <td>balance</td>\n",
              "      <td>14.10.2018</td>\n",
              "      <td>6.217398e+10</td>\n",
              "    </tr>\n",
              "    <tr>\n",
              "      <th>1750</th>\n",
              "      <td>balance</td>\n",
              "      <td>15.10.2018</td>\n",
              "      <td>5.704780e+10</td>\n",
              "    </tr>\n",
              "    <tr>\n",
              "      <th>...</th>\n",
              "      <td>...</td>\n",
              "      <td>...</td>\n",
              "      <td>...</td>\n",
              "    </tr>\n",
              "    <tr>\n",
              "      <th>2166</th>\n",
              "      <td>balance</td>\n",
              "      <td>12.05.2019</td>\n",
              "      <td>7.355557e+10</td>\n",
              "    </tr>\n",
              "    <tr>\n",
              "      <th>2167</th>\n",
              "      <td>balance</td>\n",
              "      <td>12.06.2019</td>\n",
              "      <td>7.406256e+10</td>\n",
              "    </tr>\n",
              "    <tr>\n",
              "      <th>2168</th>\n",
              "      <td>balance</td>\n",
              "      <td>12.07.2019</td>\n",
              "      <td>7.822860e+10</td>\n",
              "    </tr>\n",
              "    <tr>\n",
              "      <th>2169</th>\n",
              "      <td>balance</td>\n",
              "      <td>12.08.2019</td>\n",
              "      <td>7.691720e+10</td>\n",
              "    </tr>\n",
              "    <tr>\n",
              "      <th>2170</th>\n",
              "      <td>balance</td>\n",
              "      <td>12.09.2019</td>\n",
              "      <td>7.410598e+10</td>\n",
              "    </tr>\n",
              "  </tbody>\n",
              "</table>\n",
              "<p>365 rows × 3 columns</p>\n",
              "</div>\n",
              "      <button class=\"colab-df-convert\" onclick=\"convertToInteractive('df-1a71912a-aa1b-4042-9996-2b50919f2a22')\"\n",
              "              title=\"Convert this dataframe to an interactive table.\"\n",
              "              style=\"display:none;\">\n",
              "        \n",
              "  <svg xmlns=\"http://www.w3.org/2000/svg\" height=\"24px\"viewBox=\"0 0 24 24\"\n",
              "       width=\"24px\">\n",
              "    <path d=\"M0 0h24v24H0V0z\" fill=\"none\"/>\n",
              "    <path d=\"M18.56 5.44l.94 2.06.94-2.06 2.06-.94-2.06-.94-.94-2.06-.94 2.06-2.06.94zm-11 1L8.5 8.5l.94-2.06 2.06-.94-2.06-.94L8.5 2.5l-.94 2.06-2.06.94zm10 10l.94 2.06.94-2.06 2.06-.94-2.06-.94-.94-2.06-.94 2.06-2.06.94z\"/><path d=\"M17.41 7.96l-1.37-1.37c-.4-.4-.92-.59-1.43-.59-.52 0-1.04.2-1.43.59L10.3 9.45l-7.72 7.72c-.78.78-.78 2.05 0 2.83L4 21.41c.39.39.9.59 1.41.59.51 0 1.02-.2 1.41-.59l7.78-7.78 2.81-2.81c.8-.78.8-2.07 0-2.86zM5.41 20L4 18.59l7.72-7.72 1.47 1.35L5.41 20z\"/>\n",
              "  </svg>\n",
              "      </button>\n",
              "      \n",
              "  <style>\n",
              "    .colab-df-container {\n",
              "      display:flex;\n",
              "      flex-wrap:wrap;\n",
              "      gap: 12px;\n",
              "    }\n",
              "\n",
              "    .colab-df-convert {\n",
              "      background-color: #E8F0FE;\n",
              "      border: none;\n",
              "      border-radius: 50%;\n",
              "      cursor: pointer;\n",
              "      display: none;\n",
              "      fill: #1967D2;\n",
              "      height: 32px;\n",
              "      padding: 0 0 0 0;\n",
              "      width: 32px;\n",
              "    }\n",
              "\n",
              "    .colab-df-convert:hover {\n",
              "      background-color: #E2EBFA;\n",
              "      box-shadow: 0px 1px 2px rgba(60, 64, 67, 0.3), 0px 1px 3px 1px rgba(60, 64, 67, 0.15);\n",
              "      fill: #174EA6;\n",
              "    }\n",
              "\n",
              "    [theme=dark] .colab-df-convert {\n",
              "      background-color: #3B4455;\n",
              "      fill: #D2E3FC;\n",
              "    }\n",
              "\n",
              "    [theme=dark] .colab-df-convert:hover {\n",
              "      background-color: #434B5C;\n",
              "      box-shadow: 0px 1px 3px 1px rgba(0, 0, 0, 0.15);\n",
              "      filter: drop-shadow(0px 1px 2px rgba(0, 0, 0, 0.3));\n",
              "      fill: #FFFFFF;\n",
              "    }\n",
              "  </style>\n",
              "\n",
              "      <script>\n",
              "        const buttonEl =\n",
              "          document.querySelector('#df-1a71912a-aa1b-4042-9996-2b50919f2a22 button.colab-df-convert');\n",
              "        buttonEl.style.display =\n",
              "          google.colab.kernel.accessAllowed ? 'block' : 'none';\n",
              "\n",
              "        async function convertToInteractive(key) {\n",
              "          const element = document.querySelector('#df-1a71912a-aa1b-4042-9996-2b50919f2a22');\n",
              "          const dataTable =\n",
              "            await google.colab.kernel.invokeFunction('convertToInteractive',\n",
              "                                                     [key], {});\n",
              "          if (!dataTable) return;\n",
              "\n",
              "          const docLinkHtml = 'Like what you see? Visit the ' +\n",
              "            '<a target=\"_blank\" href=https://colab.research.google.com/notebooks/data_table.ipynb>data table notebook</a>'\n",
              "            + ' to learn more about interactive tables.';\n",
              "          element.innerHTML = '';\n",
              "          dataTable['output_type'] = 'display_data';\n",
              "          await google.colab.output.renderOutput(dataTable, element);\n",
              "          const docLink = document.createElement('div');\n",
              "          docLink.innerHTML = docLinkHtml;\n",
              "          element.appendChild(docLink);\n",
              "        }\n",
              "      </script>\n",
              "    </div>\n",
              "  </div>\n",
              "  "
            ]
          },
          "metadata": {},
          "execution_count": 315
        }
      ]
    },
    {
      "cell_type": "code",
      "source": [
        "x_test = x_test.reset_index(drop=True) # Если не сбросить индексы, то ETNA заполнит датасет и в train у нас будет 2170 строк"
      ],
      "metadata": {
        "id": "AQO7cn5XyWeH"
      },
      "execution_count": 316,
      "outputs": []
    },
    {
      "cell_type": "markdown",
      "source": [
        "# Преобразуем данные к формату, приемлемому для ETNA"
      ],
      "metadata": {
        "id": "AgZkxgH2NR5R"
      }
    },
    {
      "cell_type": "code",
      "source": [
        "train_in_etna_format = TSDataset.to_dataset(x_train)\n",
        "test_in_etna_format = TSDataset.to_dataset(x_test)"
      ],
      "metadata": {
        "id": "fgUplFepLzFe"
      },
      "execution_count": 317,
      "outputs": []
    },
    {
      "cell_type": "markdown",
      "source": [
        "# Заполняем пропуски"
      ],
      "metadata": {
        "id": "YFKLR_22Nd_f"
      }
    },
    {
      "cell_type": "code",
      "source": [
        "nan_fill = TimeSeriesImputerTransform(in_column = 'target', strategy='running_mean', window=5)\n",
        "ts_n = TSDataset(train_in_etna_format, freq=\"D\")\n",
        "ts_n.fit_transform([nan_fill])\n",
        "ts_t = TSDataset(test_in_etna_format, freq=\"D\")\n",
        "ts_t.fit_transform([nan_fill])"
      ],
      "metadata": {
        "colab": {
          "base_uri": "https://localhost:8080/"
        },
        "id": "g9LkS5oZldJC",
        "outputId": "794cbdff-129a-4bd0-ee26-223a0fd4a458"
      },
      "execution_count": 318,
      "outputs": [
        {
          "output_type": "stream",
          "name": "stderr",
          "text": [
            "/usr/local/lib/python3.7/dist-packages/etna/core/mixins.py:25: UserWarning: You haven't set all parameters inside class __init__ method: 'constant_value'\n",
            "  warnings.warn(f\"You haven't set all parameters inside class __init__ method: {e}\")\n",
            "/usr/local/lib/python3.7/dist-packages/etna/datasets/tsdataset.py:125: UserWarning: You probably set wrong freq. Discovered freq in you data is None, you set D\n",
            "  f\"You probably set wrong freq. Discovered freq in you data is {inferred_freq}, you set {self.freq}\"\n",
            "/usr/local/lib/python3.7/dist-packages/etna/core/mixins.py:25: UserWarning: You haven't set all parameters inside class __init__ method: 'constant_value'\n",
            "  warnings.warn(f\"You haven't set all parameters inside class __init__ method: {e}\")\n"
          ]
        }
      ]
    },
    {
      "cell_type": "markdown",
      "source": [
        "# Анализ данных с помощью ETNA"
      ],
      "metadata": {
        "id": "LVI9TmrENuMu"
      }
    },
    {
      "cell_type": "markdown",
      "source": [
        "Попробуем найти сезонность с помощью графика автокорреляции"
      ],
      "metadata": {
        "id": "W4Z21vwWO4Nq"
      }
    },
    {
      "cell_type": "code",
      "source": [
        "from etna.analysis import sample_acf_plot\n",
        "\n",
        "sample_acf_plot(ts_n, lags=180)\n",
        "# Видно, что присутсвует сезонность примерно в 30 дней"
      ],
      "metadata": {
        "colab": {
          "base_uri": "https://localhost:8080/",
          "height": 385
        },
        "id": "0LBxMbyZOxTF",
        "outputId": "99df727b-77f7-4fe5-87be-9362ca4ad994"
      },
      "execution_count": 319,
      "outputs": [
        {
          "output_type": "display_data",
          "data": {
            "text/plain": [
              "<Figure size 720x360 with 1 Axes>"
            ],
            "image/png": "[encoded data removed]"
          },
          "metadata": {
            "needs_background": "light"
          }
        }
      ]
    },
    {
      "cell_type": "markdown",
      "source": [
        "Посмотрим, какая из функций (линейная или кусочно-линейная) моделируют тренд наилучшим образом"
      ],
      "metadata": {
        "id": "Jy3cow8hOA5X"
      }
    },
    {
      "cell_type": "code",
      "source": [
        "from etna.analysis import plot_trend\n",
        "from etna.transforms import LinearTrendTransform, BinsegTrendTransform\n",
        "\n",
        "ts_n.fit_transform([TimeSeriesImputerTransform(in_column=\"target\", strategy=\"running_mean\", window=3)])\n",
        "plot_trend(\n",
        "    ts=ts_n,\n",
        "    trend_transform=[\n",
        "        LinearTrendTransform(in_column=\"target\"),\n",
        "        BinsegTrendTransform(in_column=\"target\", n_bkps=2, min_size=150),\n",
        "    ],\n",
        ")\n",
        "# Как мы видим, кусочно-линейная функция справилась лучше, хоть различия невелики"
      ],
      "metadata": {
        "colab": {
          "base_uri": "https://localhost:8080/",
          "height": 420
        },
        "id": "VNgKamm18IzH",
        "outputId": "ef18c967-2591-4915-80ce-fea99a26f11c"
      },
      "execution_count": 320,
      "outputs": [
        {
          "output_type": "stream",
          "name": "stderr",
          "text": [
            "/usr/local/lib/python3.7/dist-packages/etna/core/mixins.py:25: UserWarning: You haven't set all parameters inside class __init__ method: 'constant_value'\n",
            "  warnings.warn(f\"You haven't set all parameters inside class __init__ method: {e}\")\n"
          ]
        },
        {
          "output_type": "display_data",
          "data": {
            "text/plain": [
              "<Figure size 720x360 with 1 Axes>"
            ],
            "image/png": "[encoded data removed]"
          },
          "metadata": {
            "needs_background": "light"
          }
        }
      ]
    },
    {
      "cell_type": "markdown",
      "source": [
        "# Прогнозирование ряда"
      ],
      "metadata": {
        "id": "inq6icPgdqe7"
      }
    },
    {
      "cell_type": "markdown",
      "source": [
        "Будем предсказывать HORIZON=365 дней, если нужно изменить количество дней, просто укажите другое. Однако, в тестовом датасете всего 425 дней, так что для проверки логичнее указывать не более 425"
      ],
      "metadata": {
        "id": "MK7TKHC7fYjy"
      }
    },
    {
      "cell_type": "code",
      "source": [
        "HORIZON = 365"
      ],
      "metadata": {
        "id": "GJTfloWGfX_-"
      },
      "execution_count": 321,
      "outputs": []
    },
    {
      "cell_type": "markdown",
      "source": [
        "В качестве модели мы использовали CatBoostModelPerSegment т.к. у нас всего 1 сегмент и сама модель показывает хорошее качество. В качестве фичей у нас: номер дня в месяце, номер дня недели, является ли день выходным/специальным днем, члены Фурье, является ли день праздничным днем в России, информация о временном ряде HORRZON, HORRZON+1, .... ,HORRZON+7 дней назад, среднее значение за 104 дня.\n",
        "Метрика Smape  "
      ],
      "metadata": {
        "id": "ExgU5skQicWi"
      }
    },
    {
      "cell_type": "code",
      "source": [
        "lag_week = LagTransform(in_column=\"target\", lags=list(range(HORIZON, HORIZON+6)), out_column=\"regressor_lag\")\n",
        "mean_tr = MeanTransform(in_column=\"regressor_lag_{0}\".format(HORIZON), out_column=\"regressor_mean\", window=104, seasonality=30)\n",
        "date_tr = DateFlagsTransform(out_column=\"d_flags\",\n",
        "                             day_number_in_week=True,\n",
        "                             day_number_in_month=True,\n",
        "                             is_weekend=True,\n",
        "                             special_days_in_week=[4],\n",
        "                            )\n",
        "holiday_rus = HolidayTransform(iso_code=\"RUS\", out_column=\"regressor_RUS_holidays\")\n",
        "holiday_lag_rus = LagTransform(in_column=\"regressor_RUS_holidays\", lags=list(range(2,7)), \n",
        "                               out_column=\"regressor_RUS_holidays_lag\")\n",
        "fourier = FourierTransform(period=180, order=4, out_column=\"fourier\")\n",
        "bins_trend = BinsegTrendTransform(in_column=\"target\", n_bkps=2, min_size=150)\n",
        "model = CatBoostModelPerSegment(depth=5, learning_rate=0.35, l2_leaf_reg=0.8)\n",
        "std = StdTransform(in_column='target', out_column='std', window=150, min_periods=150)\n",
        "\n",
        "pipe = Pipeline(model=model, transforms=[lag_week, mean_tr, date_tr, \n",
        "                                         holiday_rus, fourier, bins_trend, holiday_lag_rus, std], \n",
        "                horizon=HORIZON)\n",
        "smape = SMAPE()\n",
        "metrics, forecast, info = pipe.backtest(ts=ts_n, metrics=[smape], n_folds=1, n_jobs=-1)"
      ],
      "metadata": {
        "colab": {
          "base_uri": "https://localhost:8080/"
        },
        "id": "OgEKgj-kMfNH",
        "outputId": "9bd1078d-07fa-40c9-e283-9235b67d613e"
      },
      "execution_count": 322,
      "outputs": [
        {
          "output_type": "stream",
          "name": "stderr",
          "text": [
            "/usr/local/lib/python3.7/dist-packages/ipykernel_launcher.py:14: DeprecationWarning: Call to deprecated class CatBoostModelPerSegment. (CatBoostModelPerSegment is deprecated; will be deleted in etna==2.0. Use CatBoostPerSegmentModel instead.)\n",
            "  \n",
            "[Parallel(n_jobs=-1)]: Using backend MultiprocessingBackend with 2 concurrent workers.\n",
            "[Parallel(n_jobs=-1)]: Done   1 tasks      | elapsed:    3.5s\n",
            "[Parallel(n_jobs=-1)]: Done   1 out of   1 | elapsed:    3.5s finished\n"
          ]
        }
      ]
    },
    {
      "cell_type": "code",
      "source": [
        "metrics"
      ],
      "metadata": {
        "colab": {
          "base_uri": "https://localhost:8080/",
          "height": 81
        },
        "id": "c5RGDiwm2U00",
        "outputId": "4480636e-4fa8-4019-9cc3-61938cbaadd2"
      },
      "execution_count": 323,
      "outputs": [
        {
          "output_type": "execute_result",
          "data": {
            "text/plain": [
              "   segment     SMAPE  fold_number\n",
              "0  balance  9.492423            0"
            ],
            "text/html": [
              "\n",
              "  <div id=\"df-003022c3-a620-498c-bcfa-4a6779c255d8\">\n",
              "    <div class=\"colab-df-container\">\n",
              "      <div>\n",
              "<style scoped>\n",
              "    .dataframe tbody tr th:only-of-type {\n",
              "        vertical-align: middle;\n",
              "    }\n",
              "\n",
              "    .dataframe tbody tr th {\n",
              "        vertical-align: top;\n",
              "    }\n",
              "\n",
              "    .dataframe thead th {\n",
              "        text-align: right;\n",
              "    }\n",
              "</style>\n",
              "<table border=\"1\" class=\"dataframe\">\n",
              "  <thead>\n",
              "    <tr style=\"text-align: right;\">\n",
              "      <th></th>\n",
              "      <th>segment</th>\n",
              "      <th>SMAPE</th>\n",
              "      <th>fold_number</th>\n",
              "    </tr>\n",
              "  </thead>\n",
              "  <tbody>\n",
              "    <tr>\n",
              "      <th>0</th>\n",
              "      <td>balance</td>\n",
              "      <td>9.492423</td>\n",
              "      <td>0</td>\n",
              "    </tr>\n",
              "  </tbody>\n",
              "</table>\n",
              "</div>\n",
              "      <button class=\"colab-df-convert\" onclick=\"convertToInteractive('df-003022c3-a620-498c-bcfa-4a6779c255d8')\"\n",
              "              title=\"Convert this dataframe to an interactive table.\"\n",
              "              style=\"display:none;\">\n",
              "        \n",
              "  <svg xmlns=\"http://www.w3.org/2000/svg\" height=\"24px\"viewBox=\"0 0 24 24\"\n",
              "       width=\"24px\">\n",
              "    <path d=\"M0 0h24v24H0V0z\" fill=\"none\"/>\n",
              "    <path d=\"M18.56 5.44l.94 2.06.94-2.06 2.06-.94-2.06-.94-.94-2.06-.94 2.06-2.06.94zm-11 1L8.5 8.5l.94-2.06 2.06-.94-2.06-.94L8.5 2.5l-.94 2.06-2.06.94zm10 10l.94 2.06.94-2.06 2.06-.94-2.06-.94-.94-2.06-.94 2.06-2.06.94z\"/><path d=\"M17.41 7.96l-1.37-1.37c-.4-.4-.92-.59-1.43-.59-.52 0-1.04.2-1.43.59L10.3 9.45l-7.72 7.72c-.78.78-.78 2.05 0 2.83L4 21.41c.39.39.9.59 1.41.59.51 0 1.02-.2 1.41-.59l7.78-7.78 2.81-2.81c.8-.78.8-2.07 0-2.86zM5.41 20L4 18.59l7.72-7.72 1.47 1.35L5.41 20z\"/>\n",
              "  </svg>\n",
              "      </button>\n",
              "      \n",
              "  <style>\n",
              "    .colab-df-container {\n",
              "      display:flex;\n",
              "      flex-wrap:wrap;\n",
              "      gap: 12px;\n",
              "    }\n",
              "\n",
              "    .colab-df-convert {\n",
              "      background-color: #E8F0FE;\n",
              "      border: none;\n",
              "      border-radius: 50%;\n",
              "      cursor: pointer;\n",
              "      display: none;\n",
              "      fill: #1967D2;\n",
              "      height: 32px;\n",
              "      padding: 0 0 0 0;\n",
              "      width: 32px;\n",
              "    }\n",
              "\n",
              "    .colab-df-convert:hover {\n",
              "      background-color: #E2EBFA;\n",
              "      box-shadow: 0px 1px 2px rgba(60, 64, 67, 0.3), 0px 1px 3px 1px rgba(60, 64, 67, 0.15);\n",
              "      fill: #174EA6;\n",
              "    }\n",
              "\n",
              "    [theme=dark] .colab-df-convert {\n",
              "      background-color: #3B4455;\n",
              "      fill: #D2E3FC;\n",
              "    }\n",
              "\n",
              "    [theme=dark] .colab-df-convert:hover {\n",
              "      background-color: #434B5C;\n",
              "      box-shadow: 0px 1px 3px 1px rgba(0, 0, 0, 0.15);\n",
              "      filter: drop-shadow(0px 1px 2px rgba(0, 0, 0, 0.3));\n",
              "      fill: #FFFFFF;\n",
              "    }\n",
              "  </style>\n",
              "\n",
              "      <script>\n",
              "        const buttonEl =\n",
              "          document.querySelector('#df-003022c3-a620-498c-bcfa-4a6779c255d8 button.colab-df-convert');\n",
              "        buttonEl.style.display =\n",
              "          google.colab.kernel.accessAllowed ? 'block' : 'none';\n",
              "\n",
              "        async function convertToInteractive(key) {\n",
              "          const element = document.querySelector('#df-003022c3-a620-498c-bcfa-4a6779c255d8');\n",
              "          const dataTable =\n",
              "            await google.colab.kernel.invokeFunction('convertToInteractive',\n",
              "                                                     [key], {});\n",
              "          if (!dataTable) return;\n",
              "\n",
              "          const docLinkHtml = 'Like what you see? Visit the ' +\n",
              "            '<a target=\"_blank\" href=https://colab.research.google.com/notebooks/data_table.ipynb>data table notebook</a>'\n",
              "            + ' to learn more about interactive tables.';\n",
              "          element.innerHTML = '';\n",
              "          dataTable['output_type'] = 'display_data';\n",
              "          await google.colab.output.renderOutput(dataTable, element);\n",
              "          const docLink = document.createElement('div');\n",
              "          docLink.innerHTML = docLinkHtml;\n",
              "          element.appendChild(docLink);\n",
              "        }\n",
              "      </script>\n",
              "    </div>\n",
              "  </div>\n",
              "  "
            ]
          },
          "metadata": {},
          "execution_count": 323
        }
      ]
    },
    {
      "cell_type": "markdown",
      "source": [
        "Получаем предсказания на HORRIZON дней вперед"
      ],
      "metadata": {
        "id": "qRWwOpVElX9V"
      }
    },
    {
      "cell_type": "code",
      "source": [
        "pipe.fit(ts_n)\n",
        "forecast = pipe.forecast()"
      ],
      "metadata": {
        "id": "34lV96sNOBXl"
      },
      "execution_count": 324,
      "outputs": []
    },
    {
      "cell_type": "markdown",
      "source": [
        "Так как при применении срезов к датасету из ETNA он превращается в DataFrame из pandas, необходимо было написать функцию для вычисления метрики, которая будет работать с DataFrame (smape из ETNA с DataFrame не работает)"
      ],
      "metadata": {
        "id": "ONebSUbZljxO"
      }
    },
    {
      "cell_type": "code",
      "source": [
        "def smape(A, F):\n",
        "    return 100/len(A) * np.sum(2 * np.abs(F - A) / (np.abs(A) + np.abs(F)))"
      ],
      "metadata": {
        "id": "yGPqtfGk91fK"
      },
      "execution_count": 325,
      "outputs": []
    },
    {
      "cell_type": "markdown",
      "source": [
        "Так как тестовый датасет состоит из 425 дней, а мы можем предсказывать на меньшее количество дней, необходимо знать, какой день в предсказании был последним для корректного вычисления метрики"
      ],
      "metadata": {
        "id": "9iz64gZul_Wk"
      }
    },
    {
      "cell_type": "code",
      "source": [
        "last_date = forecast['2018-10-11':].index[-1].strftime('%Y-%m-%d')\n",
        "last_date"
      ],
      "metadata": {
        "colab": {
          "base_uri": "https://localhost:8080/",
          "height": 35
        },
        "id": "S45uW30ihAOq",
        "outputId": "d2f9ce5b-9a37-4ad2-8837-27f6a6df8858"
      },
      "execution_count": 326,
      "outputs": [
        {
          "output_type": "execute_result",
          "data": {
            "text/plain": [
              "'2019-10-10'"
            ],
            "application/vnd.google.colaboratory.intrinsic+json": {
              "type": "string"
            }
          },
          "metadata": {},
          "execution_count": 326
        }
      ]
    },
    {
      "cell_type": "code",
      "source": [
        "smape(ts_t['2018-10-11':last_date]['balance']['target'], forecast['2018-10-11':]['balance']['target'])"
      ],
      "metadata": {
        "colab": {
          "base_uri": "https://localhost:8080/"
        },
        "id": "Pj-9IESr92tA",
        "outputId": "82c3bf41-0452-4fa5-fd61-f808598552d2"
      },
      "execution_count": 327,
      "outputs": [
        {
          "output_type": "execute_result",
          "data": {
            "text/plain": [
              "5.450701407667853"
            ]
          },
          "metadata": {},
          "execution_count": 327
        }
      ]
    },
    {
      "cell_type": "code",
      "source": [
        "plot_forecast(forecast_ts=forecast, test_ts=ts_t)\n"
      ],
      "metadata": {
        "colab": {
          "base_uri": "https://localhost:8080/",
          "height": 385
        },
        "id": "ekxbfpUh5Ds2",
        "outputId": "f4e5795d-f1e9-40c1-893d-4bef25650580"
      },
      "execution_count": 328,
      "outputs": [
        {
          "output_type": "display_data",
          "data": {
            "text/plain": [
              "<Figure size 720x360 with 1 Axes>"
            ],
            "image/png": "[encoded data removed]"
          },
          "metadata": {
            "needs_background": "light"
          }
        }
      ]
    },
    {
      "cell_type": "markdown",
      "source": [
        "# Стабильная часть средств на дату"
      ],
      "metadata": {
        "id": "vRMrfQ_XIvI4"
      }
    },
    {
      "cell_type": "code",
      "source": [
        "# Функция показывает логарифм стабильной части средств на 12 месяцев вперед от  report_date\n",
        "# Начало предсказаний начинается с 2018-10-11, поэтому необходимо ставить дату не раньше этой\n",
        "# И не позднее '2019-10-10' потому что предсказания заканчиваются в этот день\n",
        "def stable_part(forecast, report_date):\n",
        "  if pd.to_datetime('2018-10-11') > pd.to_datetime(report_date):\n",
        "    print('Укажите более позднюю дату(начиная с 2018-10-11)')\n",
        "    return\n",
        "\n",
        "  step = 30\n",
        "  report_date_pd = pd.to_datetime(report_date)\n",
        "  print('report_date bucket stable')\n",
        "  \n",
        "  for i in range(12):\n",
        "    bucket = str(i + 1) + 'm'\n",
        "    step_i_days = report_date_pd + pd.DateOffset(days=i*30)\n",
        "    step_i_days = step_i_days.strftime('%Y-%m-%d')\n",
        "    stable = forecast[report_date:step_i_days]['balance']['target'].min()\n",
        "    print('%10s %3s %10.3f' % (report_date, bucket, np.log(stable)))"
      ],
      "metadata": {
        "id": "_86Z0GXu6zaa"
      },
      "execution_count": 330,
      "outputs": []
    },
    {
      "cell_type": "code",
      "source": [
        "stable_part(forecast, '2018-10-11')"
      ],
      "metadata": {
        "colab": {
          "base_uri": "https://localhost:8080/"
        },
        "id": "1ENH2cvYETmS",
        "outputId": "203cd3ab-f28b-4aea-bbae-8d677cc6dbd8"
      },
      "execution_count": 331,
      "outputs": [
        {
          "output_type": "stream",
          "name": "stdout",
          "text": [
            "report_date bucket stable\n",
            "2018-10-11  1m     24.780\n",
            "2018-10-11  2m     24.615\n",
            "2018-10-11  3m     24.615\n",
            "2018-10-11  4m     24.615\n",
            "2018-10-11  5m     24.615\n",
            "2018-10-11  6m     24.615\n",
            "2018-10-11  7m     24.615\n",
            "2018-10-11  8m     24.615\n",
            "2018-10-11  9m     24.615\n",
            "2018-10-11 10m     24.615\n",
            "2018-10-11 11m     24.615\n",
            "2018-10-11 12m     24.615\n"
          ]
        }
      ]
    },
    {
      "cell_type": "markdown",
      "source": [
        "# SMAPE = 7.56 (До работы над ошибками)\n"
      ],
      "metadata": {
        "id": "Ykx0YSwrm4tr"
      }
    },
    {
      "cell_type": "markdown",
      "source": [
        "# SMAPE = 5.45 (После работы над ошибками)\n",
        "Что было сделано в работе над ошибками: подбор гиперпараметров для модели, более точная настройка фичей и добавление новой (StdTransform), написана функция для отображения стабильной части средств на дату"
      ],
      "metadata": {
        "id": "ncc24tVqI3PK"
      }
    }
  ]
}